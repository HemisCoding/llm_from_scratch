{
 "cells": [
  {
   "cell_type": "code",
   "execution_count": null,
   "id": "5581d991-a410-4007-bcd1-ebc81c58db03",
   "metadata": {},
   "outputs": [],
   "source": [
    "!pip install tiktoken"
   ]
  },
  {
   "cell_type": "code",
   "execution_count": 5,
   "id": "b989c670-5ca4-492c-85e7-c71c9639bb28",
   "metadata": {},
   "outputs": [
    {
     "name": "stdout",
     "output_type": "stream",
     "text": [
      "tiktoken version: 0.11.0\n"
     ]
    }
   ],
   "source": [
    "import importlib\n",
    "import tiktoken\n",
    "\n",
    "print ('tiktoken version:', tiktoken.__version__)"
   ]
  },
  {
   "cell_type": "markdown",
   "id": "e73b4a0e-85ed-4f58-b7ce-e40715f5b998",
   "metadata": {},
   "source": [
    "instantiate the BPE tokenizer from tiktoken:"
   ]
  },
  {
   "cell_type": "code",
   "execution_count": null,
   "id": "df9b3865-ecad-49a5-9e2b-5dc286409e10",
   "metadata": {},
   "outputs": [],
   "source": [
    "tokenizer = tiktoken.get_encoding('gpt2')"
   ]
  }
 ],
 "metadata": {
  "kernelspec": {
   "display_name": "Python 3 (ipykernel)",
   "language": "python",
   "name": "python3"
  },
  "language_info": {
   "codemirror_mode": {
    "name": "ipython",
    "version": 3
   },
   "file_extension": ".py",
   "mimetype": "text/x-python",
   "name": "python",
   "nbconvert_exporter": "python",
   "pygments_lexer": "ipython3",
   "version": "3.10.16"
  }
 },
 "nbformat": 4,
 "nbformat_minor": 5
}
