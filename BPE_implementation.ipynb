{
 "cells": [
  {
   "cell_type": "code",
   "execution_count": null,
   "id": "5581d991-a410-4007-bcd1-ebc81c58db03",
   "metadata": {},
   "outputs": [],
   "source": [
    "!pip install tiktoken"
   ]
  },
  {
   "cell_type": "code",
   "execution_count": 5,
   "id": "b989c670-5ca4-492c-85e7-c71c9639bb28",
   "metadata": {},
   "outputs": [
    {
     "name": "stdout",
     "output_type": "stream",
     "text": [
      "tiktoken version: 0.11.0\n"
     ]
    }
   ],
   "source": [
    "import importlib\n",
    "import tiktoken\n",
    "\n",
    "print ('tiktoken version:', tiktoken.__version__)"
   ]
  },
  {
   "cell_type": "markdown",
   "id": "a9aed559-8373-4bd9-9897-75817083b290",
   "metadata": {},
   "source": [
    "--------------------------------------------"
   ]
  },
  {
   "cell_type": "markdown",
   "id": "d2c081cf-0472-4a46-b3e0-820608f88f32",
   "metadata": {},
   "source": [
    "--------------------------------------------"
   ]
  },
  {
   "cell_type": "markdown",
   "id": "e73b4a0e-85ed-4f58-b7ce-e40715f5b998",
   "metadata": {},
   "source": [
    "instantiate the BPE tokenizer from tiktoken:"
   ]
  },
  {
   "cell_type": "code",
   "execution_count": 6,
   "id": "df9b3865-ecad-49a5-9e2b-5dc286409e10",
   "metadata": {},
   "outputs": [],
   "source": [
    "tokenizer = tiktoken.get_encoding('gpt2')"
   ]
  },
  {
   "cell_type": "code",
   "execution_count": 17,
   "id": "c23fe368-e669-46dd-9405-d3e27c6b55ba",
   "metadata": {},
   "outputs": [
    {
     "name": "stdout",
     "output_type": "stream",
     "text": [
      "[15496, 11, 466, 345, 588, 8887, 30, 220, 50256, 554, 262, 4252, 18250, 8812, 2114, 286, 262, 20562, 1659, 617, 34680, 27271]\n"
     ]
    }
   ],
   "source": [
    "text = (\n",
    "    \"Hello, do you like tea? <|endoftext|> In the sunlit terraces of the palace\"\n",
    "    \"of someunknownPlace\"\n",
    ")\n",
    "\n",
    "integers = tokenizer.encode(text, allowed_special={\"<|endoftext|>\"})\n",
    "print(integers)"
   ]
  },
  {
   "cell_type": "code",
   "execution_count": 18,
   "id": "fd45bcb5-933d-479f-b72a-ef0a96b09d98",
   "metadata": {},
   "outputs": [
    {
     "name": "stdout",
     "output_type": "stream",
     "text": [
      "Hello, do you like tea? <|endoftext|> In the sunlit terraces of the palaceof someunknownPlace\n"
     ]
    }
   ],
   "source": [
    "strings = tokenizer.decode(integers)\n",
    "print(strings"
   ]
  },
  {
   "cell_type": "markdown",
   "id": "fa3f56c2-54ee-468c-8fbc-1f9aca286b15",
   "metadata": {},
   "source": [
    "-----------------------------------------------"
   ]
  },
  {
   "cell_type": "markdown",
   "id": "efb38b2b-6e84-4663-9a5e-19cf6806a05a",
   "metadata": {},
   "source": [
    "Observations:\n",
    "- first, the '<|endoftext|>' token is assigned a relatively large token ID, namely, 50256\n",
    "- BPE tokenizer encodes and decodes unknown words, such as \"someunknownPlace\""
   ]
  },
  {
   "cell_type": "markdown",
   "id": "2b412675-f612-4d33-ac78-1a63786a3657",
   "metadata": {},
   "source": [
    "-----------------------------------------------"
   ]
  },
  {
   "cell_type": "code",
   "execution_count": null,
   "id": "4d00ddea-ce2b-47f0-b07d-a61640d8e67b",
   "metadata": {},
   "outputs": [],
   "source": []
  },
  {
   "cell_type": "code",
   "execution_count": null,
   "id": "3d0e1cf7-15b2-421a-9385-257dc805f593",
   "metadata": {},
   "outputs": [],
   "source": []
  }
 ],
 "metadata": {
  "kernelspec": {
   "display_name": "Python 3 (ipykernel)",
   "language": "python",
   "name": "python3"
  },
  "language_info": {
   "codemirror_mode": {
    "name": "ipython",
    "version": 3
   },
   "file_extension": ".py",
   "mimetype": "text/x-python",
   "name": "python",
   "nbconvert_exporter": "python",
   "pygments_lexer": "ipython3",
   "version": "3.10.16"
  }
 },
 "nbformat": 4,
 "nbformat_minor": 5
}
