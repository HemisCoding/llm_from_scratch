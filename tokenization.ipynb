{
 "cells": [
  {
   "cell_type": "code",
   "execution_count": 1,
   "id": "436be77a-a73f-4958-a895-10a17c7eb1fc",
   "metadata": {},
   "outputs": [],
   "source": [
    "# Core Python\n",
    "import os\n",
    "import sys\n",
    "import math\n",
    "import random\n",
    "import time\n",
    "from datetime import datetime\n",
    "\n",
    "# Data manipulation\n",
    "import numpy as np\n",
    "import pandas as pd\n",
    "\n",
    "#Text processing\n",
    "import re"
   ]
  },
  {
   "cell_type": "code",
   "execution_count": 2,
   "id": "25c1d6c3-d4f3-4d37-9311-250a48487a10",
   "metadata": {},
   "outputs": [
    {
     "name": "stdout",
     "output_type": "stream",
     "text": [
      "Total number of chars:  20479\n",
      "I HAD always thought Jack Gisburn rather a cheap genius--though a good fellow enough--so it was no \n"
     ]
    }
   ],
   "source": [
    "with open(\"the-verdict.txt\", \"r\") as f:\n",
    "    raw_text = f.read()\n",
    "print(\"Total number of chars: \", len(raw_text))\n",
    "print(raw_text[:99])"
   ]
  },
  {
   "cell_type": "code",
   "execution_count": 3,
   "id": "5dc85949-b842-4bdc-a60c-8e8eb294784c",
   "metadata": {},
   "outputs": [
    {
     "name": "stdout",
     "output_type": "stream",
     "text": [
      "['I', 'HAD', 'always', 'thought', 'Jack', 'Gisburn', 'rather', 'a', 'cheap', 'genius', '--', 'though', 'a', 'good', 'fellow', 'enough', '--', 'so', 'it', 'was', 'no', 'great', 'surprise', 'to', 'me', 'to', 'hear', 'that', ',', 'in']\n"
     ]
    }
   ],
   "source": [
    "process_raw = re.split(r'([,.:;?_!\"()\\']|--|\\s)', raw_text)\n",
    "process_raw = [item.strip() for item in process_raw if item.strip()]\n",
    "print(process_raw[:30])"
   ]
  },
  {
   "cell_type": "code",
   "execution_count": 4,
   "id": "4a03b88c-66fd-45b4-9abc-bfbab70ef0f2",
   "metadata": {
    "scrolled": true
   },
   "outputs": [
    {
     "name": "stdout",
     "output_type": "stream",
     "text": [
      "1130\n"
     ]
    }
   ],
   "source": [
    "all_words = sorted(set(process_raw))\n",
    "vocab_size = len(all_words)\n",
    "print(vocab_size)"
   ]
  },
  {
   "cell_type": "code",
   "execution_count": 5,
   "id": "735e8a09-eb46-41a8-af64-82d18c4c508b",
   "metadata": {
    "scrolled": true
   },
   "outputs": [],
   "source": [
    "vocab = {token: i for i, token in enumerate(all_words)}"
   ]
  },
  {
   "cell_type": "code",
   "execution_count": 6,
   "id": "38ffe301-48a7-4441-bdf3-e2308af2fe36",
   "metadata": {},
   "outputs": [
    {
     "name": "stdout",
     "output_type": "stream",
     "text": [
      "['!', 0]\n",
      "['\"', 1]\n",
      "[\"'\", 2]\n",
      "['(', 3]\n",
      "[')', 4]\n",
      "[',', 5]\n",
      "['--', 6]\n",
      "['.', 7]\n",
      "[':', 8]\n",
      "[';', 9]\n",
      "['?', 10]\n",
      "['A', 11]\n",
      "['Ah', 12]\n",
      "['Among', 13]\n",
      "['And', 14]\n",
      "['Are', 15]\n",
      "['Arrt', 16]\n",
      "['As', 17]\n",
      "['At', 18]\n",
      "['Be', 19]\n",
      "['Begin', 20]\n",
      "['Burlington', 21]\n",
      "['But', 22]\n",
      "['By', 23]\n",
      "['Carlo', 24]\n",
      "['Chicago', 25]\n",
      "['Claude', 26]\n",
      "['Come', 27]\n",
      "['Croft', 28]\n",
      "['Destroyed', 29]\n",
      "['Devonshire', 30]\n"
     ]
    }
   ],
   "source": [
    "for token, index in vocab.items():\n",
    "    print([token, index])\n",
    "    if index == 30:\n",
    "        break"
   ]
  },
  {
   "cell_type": "code",
   "execution_count": 7,
   "id": "acefef03-9fb7-4935-be57-d56c17143aaf",
   "metadata": {},
   "outputs": [],
   "source": [
    "class basicTokenizerV1:\n",
    "    def __init__(self, vocab):\n",
    "        self.str_to_int = vocab\n",
    "        self.int_to_str = {i: token for token, i in vocab.items()}\n",
    "\n",
    "    def encoder(self, text):\n",
    "        process_raw = re.split(r'([,.:;?_!\"()\\']|--|\\s)', text)\n",
    "        process_raw = [item.strip() for item in process_raw if item.strip()]\n",
    "        ids = [self.str_to_int[s] for s in process_raw]\n",
    "        return ids\n",
    "\n",
    "    def decoder(self, ids):\n",
    "        text = \" \".join(self.int_to_str[i] for i in ids)\n",
    "        text = re.sub(r'\\s+([,.?!\"()\\'])', r'\\1', text)\n",
    "        return text\n"
   ]
  },
  {
   "cell_type": "code",
   "execution_count": 8,
   "id": "b7521196-705e-4a50-adaf-b84cdfd3a960",
   "metadata": {
    "scrolled": true
   },
   "outputs": [
    {
     "data": {
      "text/plain": [
       "[1, 56, 2, 850, 988, 602, 533, 746, 5, 1126]"
      ]
     },
     "execution_count": 8,
     "metadata": {},
     "output_type": "execute_result"
    }
   ],
   "source": [
    "tokenizer = basicTokenizerV1(vocab)\n",
    "\n",
    "text = \"\"\"\"It's the last he painted, you know,\" \n",
    "           Mrs. Gisburn said with pardonable pride.\"\"\"\n",
    "\n",
    "test_encoder = tokenizer.encoder(text)\n",
    "test_encoder[:10]"
   ]
  },
  {
   "cell_type": "code",
   "execution_count": 9,
   "id": "2d150d81-a60a-4787-bd63-6a466af46f65",
   "metadata": {},
   "outputs": [
    {
     "data": {
      "text/plain": [
       "'\" It\\' s the last he painted, you know,\" Mrs. Gisburn said with pardonable pride.'"
      ]
     },
     "execution_count": 9,
     "metadata": {},
     "output_type": "execute_result"
    }
   ],
   "source": [
    "test_decoder = tokenizer.decoder(test_encoder)\n",
    "test_decoder"
   ]
  },
  {
   "cell_type": "code",
   "execution_count": 10,
   "id": "ead8ed5d-f5ca-40d4-b32a-8c8916c66676",
   "metadata": {
    "scrolled": true
   },
   "outputs": [
    {
     "ename": "KeyError",
     "evalue": "'Hello'",
     "output_type": "error",
     "traceback": [
      "\u001b[0;31m---------------------------------------------------------------------------\u001b[0m",
      "\u001b[0;31mKeyError\u001b[0m                                  Traceback (most recent call last)",
      "Cell \u001b[0;32mIn[10], line 5\u001b[0m\n\u001b[1;32m      1\u001b[0m tokenizer \u001b[38;5;241m=\u001b[39m basicTokenizerV1(vocab)\n\u001b[1;32m      3\u001b[0m text_not_matching_vocab \u001b[38;5;241m=\u001b[39m \u001b[38;5;124m\"\"\"\u001b[39m\u001b[38;5;124m\"\u001b[39m\u001b[38;5;124mHello Worlds test.\u001b[39m\u001b[38;5;124m\"\"\"\u001b[39m\n\u001b[0;32m----> 5\u001b[0m test_encoder \u001b[38;5;241m=\u001b[39m \u001b[43mtokenizer\u001b[49m\u001b[38;5;241;43m.\u001b[39;49m\u001b[43mencoder\u001b[49m\u001b[43m(\u001b[49m\u001b[43mtext_not_matching_vocab\u001b[49m\u001b[43m)\u001b[49m\n\u001b[1;32m      6\u001b[0m test_encoder[:\u001b[38;5;241m10\u001b[39m]\n",
      "Cell \u001b[0;32mIn[7], line 9\u001b[0m, in \u001b[0;36mbasicTokenizerV1.encoder\u001b[0;34m(self, text)\u001b[0m\n\u001b[1;32m      7\u001b[0m process_raw \u001b[38;5;241m=\u001b[39m re\u001b[38;5;241m.\u001b[39msplit(\u001b[38;5;124mr\u001b[39m\u001b[38;5;124m'\u001b[39m\u001b[38;5;124m([,.:;?_!\u001b[39m\u001b[38;5;124m\"\u001b[39m\u001b[38;5;124m()\u001b[39m\u001b[38;5;130;01m\\'\u001b[39;00m\u001b[38;5;124m]|--|\u001b[39m\u001b[38;5;124m\\\u001b[39m\u001b[38;5;124ms)\u001b[39m\u001b[38;5;124m'\u001b[39m, text)\n\u001b[1;32m      8\u001b[0m process_raw \u001b[38;5;241m=\u001b[39m [item\u001b[38;5;241m.\u001b[39mstrip() \u001b[38;5;28;01mfor\u001b[39;00m item \u001b[38;5;129;01min\u001b[39;00m process_raw \u001b[38;5;28;01mif\u001b[39;00m item\u001b[38;5;241m.\u001b[39mstrip()]\n\u001b[0;32m----> 9\u001b[0m ids \u001b[38;5;241m=\u001b[39m [\u001b[38;5;28mself\u001b[39m\u001b[38;5;241m.\u001b[39mstr_to_int[s] \u001b[38;5;28;01mfor\u001b[39;00m s \u001b[38;5;129;01min\u001b[39;00m process_raw]\n\u001b[1;32m     10\u001b[0m \u001b[38;5;28;01mreturn\u001b[39;00m ids\n",
      "Cell \u001b[0;32mIn[7], line 9\u001b[0m, in \u001b[0;36m<listcomp>\u001b[0;34m(.0)\u001b[0m\n\u001b[1;32m      7\u001b[0m process_raw \u001b[38;5;241m=\u001b[39m re\u001b[38;5;241m.\u001b[39msplit(\u001b[38;5;124mr\u001b[39m\u001b[38;5;124m'\u001b[39m\u001b[38;5;124m([,.:;?_!\u001b[39m\u001b[38;5;124m\"\u001b[39m\u001b[38;5;124m()\u001b[39m\u001b[38;5;130;01m\\'\u001b[39;00m\u001b[38;5;124m]|--|\u001b[39m\u001b[38;5;124m\\\u001b[39m\u001b[38;5;124ms)\u001b[39m\u001b[38;5;124m'\u001b[39m, text)\n\u001b[1;32m      8\u001b[0m process_raw \u001b[38;5;241m=\u001b[39m [item\u001b[38;5;241m.\u001b[39mstrip() \u001b[38;5;28;01mfor\u001b[39;00m item \u001b[38;5;129;01min\u001b[39;00m process_raw \u001b[38;5;28;01mif\u001b[39;00m item\u001b[38;5;241m.\u001b[39mstrip()]\n\u001b[0;32m----> 9\u001b[0m ids \u001b[38;5;241m=\u001b[39m [\u001b[38;5;28;43mself\u001b[39;49m\u001b[38;5;241;43m.\u001b[39;49m\u001b[43mstr_to_int\u001b[49m\u001b[43m[\u001b[49m\u001b[43ms\u001b[49m\u001b[43m]\u001b[49m \u001b[38;5;28;01mfor\u001b[39;00m s \u001b[38;5;129;01min\u001b[39;00m process_raw]\n\u001b[1;32m     10\u001b[0m \u001b[38;5;28;01mreturn\u001b[39;00m ids\n",
      "\u001b[0;31mKeyError\u001b[0m: 'Hello'"
     ]
    }
   ],
   "source": [
    "tokenizer = basicTokenizerV1(vocab)\n",
    "\n",
    "text_not_matching_vocab = \"\"\"\"Hello Worlds test.\"\"\"\n",
    "\n",
    "test_encoder = tokenizer.encoder(text_not_matching_vocab)\n",
    "test_encoder[:10]"
   ]
  },
  {
   "cell_type": "code",
   "execution_count": null,
   "id": "7abc5c40-d4ad-4520-9d87-480a264e8cd2",
   "metadata": {},
   "outputs": [],
   "source": [
    "### we need to add a token for hadling the tokens that are missing from our vocab\n",
    "### we need to add a token that gives a signals for end of sequence (unrelated texts) "
   ]
  },
  {
   "cell_type": "code",
   "execution_count": 11,
   "id": "eef1fe74-45ad-4e0f-8649-56b7b6b6e9a9",
   "metadata": {},
   "outputs": [
    {
     "data": {
      "text/plain": [
       "1132"
      ]
     },
     "execution_count": 11,
     "metadata": {},
     "output_type": "execute_result"
    }
   ],
   "source": [
    "all_tokens = sorted(set(process_raw))\n",
    "all_tokens.extend([\"<|endoftext|>\", \"<|unk|>\"])\n",
    "vocab = {token: i for i, token in enumerate(all_tokens)}\n",
    "len(vocab)"
   ]
  },
  {
   "cell_type": "code",
   "execution_count": 12,
   "id": "3300861d-f1b8-4bdf-aaed-636347a831b0",
   "metadata": {
    "scrolled": true
   },
   "outputs": [
    {
     "name": "stdout",
     "output_type": "stream",
     "text": [
      "['younger', 1127]\n",
      "['your', 1128]\n",
      "['yourself', 1129]\n",
      "['<|endoftext|>', 1130]\n",
      "['<|unk|>', 1131]\n"
     ]
    }
   ],
   "source": [
    "for index, item in list(vocab.items())[-5:]:\n",
    "    print([index, item])"
   ]
  },
  {
   "cell_type": "code",
   "execution_count": 13,
   "id": "5eef386e-9d71-4101-813b-72fcd1dbe5a6",
   "metadata": {},
   "outputs": [],
   "source": [
    "class basicTokenizerV2:\n",
    "    def __init__(self, vocab):\n",
    "        self.str_to_int = vocab\n",
    "        self.int_to_str = {i: token for token, i in vocab.items()}\n",
    "\n",
    "    def encoder(self, text):\n",
    "        process_raw = re.split(r'([,.:;?_!\"()\\']|--|\\s)', text)\n",
    "        process_raw = [item.strip() for item in process_raw if item.strip()]\n",
    "        process_raw = [\n",
    "            item if item in self.str_to_int\n",
    "            else \"<|unk|>\" for item in process_raw\n",
    "        ]\n",
    "        ids = [self.str_to_int[s] for s in process_raw]\n",
    "        return ids\n",
    "\n",
    "    def decoder(self, ids):\n",
    "        text = \" \".join(self.int_to_str[i] for i in ids)\n",
    "        text = re.sub(r'\\s+([,.:;?!\"()\\'])', r'\\1', text)\n",
    "        return text"
   ]
  },
  {
   "cell_type": "code",
   "execution_count": 14,
   "id": "b9761504-6165-41c4-8ec3-698c2635aa77",
   "metadata": {},
   "outputs": [
    {
     "name": "stdout",
     "output_type": "stream",
     "text": [
      "Hello, do you like tea? <|endoftext|> In the sunlit terraces of the palace.\n"
     ]
    }
   ],
   "source": [
    "tokenizer = basicTokenizerV2(vocab)\n",
    "\n",
    "text1 = \"Hello, do you like tea?\"\n",
    "text2 = \"In the sunlit terraces of the palace.\"\n",
    "\n",
    "text = \" <|endoftext|> \".join((text1, text2))\n",
    "\n",
    "print(text)"
   ]
  },
  {
   "cell_type": "code",
   "execution_count": 15,
   "id": "a133c4c9-e2be-4922-a92f-3f41694b671b",
   "metadata": {},
   "outputs": [
    {
     "name": "stdout",
     "output_type": "stream",
     "text": [
      "[1131, 5, 355, 1126, 628, 975, 10, 1130, 55, 988, 956, 984, 722, 988, 1131, 7]\n"
     ]
    }
   ],
   "source": [
    "test_encoder2 = tokenizer.encoder(text)\n",
    "print(test_encoder2)"
   ]
  },
  {
   "cell_type": "code",
   "execution_count": 16,
   "id": "ab3a169e-62b3-415c-a07b-cd868bc1f2ea",
   "metadata": {},
   "outputs": [
    {
     "name": "stdout",
     "output_type": "stream",
     "text": [
      "<|unk|>, do you like tea? <|endoftext|> In the sunlit terraces of the <|unk|>.\n"
     ]
    }
   ],
   "source": [
    "test_decoder2 = tokenizer.decoder(test_encoder2)\n",
    "print(test_decoder2)"
   ]
  },
  {
   "cell_type": "code",
   "execution_count": null,
   "id": "9809a38d-4c6c-4ea4-a77a-c246b0562d5f",
   "metadata": {},
   "outputs": [],
   "source": []
  },
  {
   "cell_type": "code",
   "execution_count": null,
   "id": "0aae5a78-48b8-4566-9d2d-6bef0f778689",
   "metadata": {},
   "outputs": [],
   "source": []
  }
 ],
 "metadata": {
  "kernelspec": {
   "display_name": "Python 3 (ipykernel)",
   "language": "python",
   "name": "python3"
  },
  "language_info": {
   "codemirror_mode": {
    "name": "ipython",
    "version": 3
   },
   "file_extension": ".py",
   "mimetype": "text/x-python",
   "name": "python",
   "nbconvert_exporter": "python",
   "pygments_lexer": "ipython3",
   "version": "3.10.16"
  }
 },
 "nbformat": 4,
 "nbformat_minor": 5
}
