{
 "cells": [
  {
   "cell_type": "code",
   "execution_count": 2,
   "id": "436be77a-a73f-4958-a895-10a17c7eb1fc",
   "metadata": {},
   "outputs": [],
   "source": [
    "# Core Python\n",
    "import os\n",
    "import sys\n",
    "import math\n",
    "import random\n",
    "import time\n",
    "from datetime import datetime\n",
    "\n",
    "# Data manipulation\n",
    "import numpy as np\n",
    "import pandas as pd\n",
    "\n",
    "#Text processing\n",
    "import re"
   ]
  },
  {
   "cell_type": "code",
   "execution_count": 53,
   "id": "25c1d6c3-d4f3-4d37-9311-250a48487a10",
   "metadata": {},
   "outputs": [
    {
     "name": "stdout",
     "output_type": "stream",
     "text": [
      "Total number of chars:  20479\n",
      "I HAD always thought Jack Gisburn rather a cheap genius--though a good fellow enough--so it was no \n"
     ]
    }
   ],
   "source": [
    "with open(\"the-verdict.txt\", \"r\") as f:\n",
    "    raw_text = f.read()\n",
    "print(\"Total number of chars: \", len(raw_text))\n",
    "print(raw_text[:99])"
   ]
  },
  {
   "cell_type": "code",
   "execution_count": 54,
   "id": "5dc85949-b842-4bdc-a60c-8e8eb294784c",
   "metadata": {},
   "outputs": [
    {
     "name": "stdout",
     "output_type": "stream",
     "text": [
      "['I', 'HAD', 'always', 'thought', 'Jack', 'Gisburn', 'rather', 'a', 'cheap', 'genius', '--', 'though', 'a', 'good', 'fellow', 'enough', '--', 'so', 'it', 'was', 'no', 'great', 'surprise', 'to', 'me', 'to', 'hear', 'that', ',', 'in']\n"
     ]
    }
   ],
   "source": [
    "process_raw = re.split(r'([,.:;?_!\"()\\']|--|\\s)', raw_text)\n",
    "process_raw = [item.strip() for item in process_raw if item.strip()]\n",
    "print(process_raw[:30])"
   ]
  },
  {
   "cell_type": "code",
   "execution_count": 72,
   "id": "4a03b88c-66fd-45b4-9abc-bfbab70ef0f2",
   "metadata": {
    "scrolled": true
   },
   "outputs": [
    {
     "name": "stdout",
     "output_type": "stream",
     "text": [
      "1130\n"
     ]
    }
   ],
   "source": [
    "all_words = sorted(set(process_raw))\n",
    "vocab_size = len(all_words)\n",
    "print(vocab_size)"
   ]
  },
  {
   "cell_type": "code",
   "execution_count": 150,
   "id": "735e8a09-eb46-41a8-af64-82d18c4c508b",
   "metadata": {
    "scrolled": true
   },
   "outputs": [],
   "source": [
    "vocab = {token: i for i, token in enumerate(all_words)}"
   ]
  },
  {
   "cell_type": "code",
   "execution_count": 152,
   "id": "38ffe301-48a7-4441-bdf3-e2308af2fe36",
   "metadata": {},
   "outputs": [
    {
     "name": "stdout",
     "output_type": "stream",
     "text": [
      "['!', 0]\n",
      "['\"', 1]\n",
      "[\"'\", 2]\n",
      "['(', 3]\n",
      "[')', 4]\n",
      "[',', 5]\n",
      "['--', 6]\n",
      "['.', 7]\n",
      "[':', 8]\n",
      "[';', 9]\n",
      "['?', 10]\n",
      "['A', 11]\n",
      "['Ah', 12]\n",
      "['Among', 13]\n",
      "['And', 14]\n",
      "['Are', 15]\n",
      "['Arrt', 16]\n",
      "['As', 17]\n",
      "['At', 18]\n",
      "['Be', 19]\n",
      "['Begin', 20]\n",
      "['Burlington', 21]\n",
      "['But', 22]\n",
      "['By', 23]\n",
      "['Carlo', 24]\n",
      "['Chicago', 25]\n",
      "['Claude', 26]\n",
      "['Come', 27]\n",
      "['Croft', 28]\n",
      "['Destroyed', 29]\n",
      "['Devonshire', 30]\n"
     ]
    }
   ],
   "source": [
    "for token, index in vocab.items():\n",
    "    print([token, index])\n",
    "    if index == 30:\n",
    "        break"
   ]
  },
  {
   "cell_type": "code",
   "execution_count": 142,
   "id": "acefef03-9fb7-4935-be57-d56c17143aaf",
   "metadata": {},
   "outputs": [],
   "source": [
    "class basicTokenizer:\n",
    "    def __init__(self, vocab):\n",
    "        self.str_to_int = vocab\n",
    "        self.int_to_str = {i: token for token, i in vocab.items()}\n",
    "\n",
    "    def encoder(self, text):\n",
    "        process_raw = re.split(r'([,.:;?_!\"()\\']|--|\\s)', text)\n",
    "        process_raw = [item.strip() for item in process_raw if item.strip()]\n",
    "        ids = [self.str_to_int[s] for s in process_raw if s in self.str_to_int]\n",
    "        return ids\n",
    "\n",
    "    def decoder(self, ids):\n",
    "        text = \" \".join(self.int_to_str[i] for i in ids)\n",
    "        text = re.sub(r'\\s+([,.?!\"()\\'])', r'\\1', text)\n",
    "        return text\n"
   ]
  },
  {
   "cell_type": "code",
   "execution_count": 148,
   "id": "b7521196-705e-4a50-adaf-b84cdfd3a960",
   "metadata": {
    "scrolled": true
   },
   "outputs": [
    {
     "data": {
      "text/plain": [
       "[1, 56, 2, 850, 988, 602, 533, 746, 5, 1126]"
      ]
     },
     "execution_count": 148,
     "metadata": {},
     "output_type": "execute_result"
    }
   ],
   "source": [
    "tokenizer = basicTokenizer(vocab)\n",
    "\n",
    "text = \"\"\"\"It's the last he painted, you know,\" \n",
    "           Mrs. Gisburn said with pardonable pride testnowordfromvocab.\"\"\"\n",
    "\n",
    "test_encoder = tokenizer.encoder(text)\n",
    "test_encoder[:10]"
   ]
  },
  {
   "cell_type": "code",
   "execution_count": 149,
   "id": "2d150d81-a60a-4787-bd63-6a466af46f65",
   "metadata": {},
   "outputs": [
    {
     "data": {
      "text/plain": [
       "'\" It\\' s the last he painted, you know,\" Mrs. Gisburn said with pardonable pride.'"
      ]
     },
     "execution_count": 149,
     "metadata": {},
     "output_type": "execute_result"
    }
   ],
   "source": [
    "test_decoder = tokenizer.decoder(test_encoder)\n",
    "test_decoder"
   ]
  },
  {
   "cell_type": "code",
   "execution_count": null,
   "id": "ead8ed5d-f5ca-40d4-b32a-8c8916c66676",
   "metadata": {},
   "outputs": [],
   "source": []
  },
  {
   "cell_type": "code",
   "execution_count": null,
   "id": "7abc5c40-d4ad-4520-9d87-480a264e8cd2",
   "metadata": {},
   "outputs": [],
   "source": []
  }
 ],
 "metadata": {
  "kernelspec": {
   "display_name": "Python 3 (ipykernel)",
   "language": "python",
   "name": "python3"
  },
  "language_info": {
   "codemirror_mode": {
    "name": "ipython",
    "version": 3
   },
   "file_extension": ".py",
   "mimetype": "text/x-python",
   "name": "python",
   "nbconvert_exporter": "python",
   "pygments_lexer": "ipython3",
   "version": "3.10.16"
  }
 },
 "nbformat": 4,
 "nbformat_minor": 5
}
